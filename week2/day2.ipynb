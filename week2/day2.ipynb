{
 "cells": [
  {
   "cell_type": "markdown",
   "id": "8b652f28",
   "metadata": {},
   "source": [
    "1. Problem: Given a text file, count the total number of words."
   ]
  },
  {
   "cell_type": "code",
   "execution_count": 2,
   "id": "bc4a9e5a",
   "metadata": {},
   "outputs": [
    {
     "name": "stdout",
     "output_type": "stream",
     "text": [
      "24254\n"
     ]
    }
   ],
   "source": [
    "read_file=open(\"Assignment.ipynb\",\"r\")\n",
    "data=read_file.read()\n",
    "print(len(data))\n",
    "read_file.close()\n"
   ]
  },
  {
   "cell_type": "markdown",
   "id": "a30edf03",
   "metadata": {},
   "source": [
    "2. Problem: Write a program to check if a password is strong (at least 8 characters, contains uppercase, lowercase, digit, and special char).\n"
   ]
  },
  {
   "cell_type": "code",
   "execution_count": 8,
   "id": "1a16a51a",
   "metadata": {},
   "outputs": [
    {
     "name": "stdout",
     "output_type": "stream",
     "text": [
      "Strong pass\n"
     ]
    }
   ],
   "source": [
    "import re\n",
    "pas=input()\n",
    "if  (len(pas)>=8 and \n",
    "    re.search(\"[a-z]\",pas) and\n",
    "    re.search(\"[A-Z]\",pas) and\n",
    "    re.search(\"[0-9]\",pas) and\n",
    "    re.search(\"[_@#$*]\",pas)):\n",
    "    print(\"Strong pass\")\n",
    "else:\n",
    "        print(\"Weak pass\")\n"
   ]
  },
  {
   "cell_type": "markdown",
   "id": "292357ab",
   "metadata": {},
   "source": [
    "3. Problem: Implement a calculator with +, -, *, / operations.\n"
   ]
  },
  {
   "cell_type": "code",
   "execution_count": null,
   "id": "fb4492c2",
   "metadata": {},
   "outputs": [],
   "source": []
  },
  {
   "cell_type": "markdown",
   "id": "959034fe",
   "metadata": {},
   "source": [
    "4. Problem: Given a list of student names, find duplicates."
   ]
  },
  {
   "cell_type": "code",
   "execution_count": 3,
   "id": "559bbe28",
   "metadata": {},
   "outputs": [
    {
     "name": "stdout",
     "output_type": "stream",
     "text": [
      "ara\n",
      "vil\n",
      "kou\n",
      "kam\n"
     ]
    }
   ],
   "source": [
    "from collections import Counter\n",
    "list1=list(input().split())\n",
    "counter=Counter(list1)\n",
    "for i in counter:\n",
    "    if counter[i]>1:\n",
    "        print(i)\n",
    "\n"
   ]
  },
  {
   "cell_type": "markdown",
   "id": "9c0b0e4d",
   "metadata": {},
   "source": [
    "Problem: Convert between Celsius and Fahrenheit."
   ]
  },
  {
   "cell_type": "code",
   "execution_count": null,
   "id": "3fcc663e",
   "metadata": {},
   "outputs": [],
   "source": [
    "temp=int(input())\n",
    "if "
   ]
  }
 ],
 "metadata": {
  "kernelspec": {
   "display_name": "venv",
   "language": "python",
   "name": "python3"
  },
  "language_info": {
   "codemirror_mode": {
    "name": "ipython",
    "version": 3
   },
   "file_extension": ".py",
   "mimetype": "text/x-python",
   "name": "python",
   "nbconvert_exporter": "python",
   "pygments_lexer": "ipython3",
   "version": "3.11.0"
  }
 },
 "nbformat": 4,
 "nbformat_minor": 5
}
