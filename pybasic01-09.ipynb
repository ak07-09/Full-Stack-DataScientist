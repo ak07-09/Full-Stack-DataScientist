{
 "cells": [
  {
   "cell_type": "code",
   "execution_count": 2,
   "id": "0f42fb67",
   "metadata": {},
   "outputs": [
    {
     "name": "stdout",
     "output_type": "stream",
     "text": [
      "Hello World\n"
     ]
    }
   ],
   "source": [
    "print(\"Hello World\")"
   ]
  },
  {
   "cell_type": "code",
   "execution_count": 3,
   "id": "2d635292",
   "metadata": {},
   "outputs": [
    {
     "name": "stdout",
     "output_type": "stream",
     "text": [
      "Enter a and b:\n",
      "4 3\n"
     ]
    }
   ],
   "source": [
    "'''1.You are developing a small calculator app. Write a program that takes two numbers from the user and swaps them without using a third variable,\n",
    "so users can correct their input order.'''\n",
    "print(\"Enter a and b:\")\n",
    "a,b=map(int,input().split())\n",
    "a=a+b\n",
    "b=a-b\n",
    "a=a-b\n",
    "print(a,b)\n"
   ]
  },
  {
   "cell_type": "code",
   "execution_count": 9,
   "id": "65e889cf",
   "metadata": {},
   "outputs": [
    {
     "name": "stdout",
     "output_type": "stream",
     "text": [
      "Enter the string\n",
      "hello\n",
      "Reverse string:\n",
      "olleh\n"
     ]
    }
   ],
   "source": [
    "'''2.A library wants to build a feature to display book titles backwards for a “mirror view” theme. Write a program that reverses a\n",
    "given string without using slicing.'''\n",
    "print(\"Enter the string\")\n",
    "str=input()\n",
    "s1=\"\"\n",
    "print(str)\n",
    "for i in range(len(str)-1,-1,-1):\n",
    "    s1+=str[i]\n",
    "print(\"Reverse string:\")\n",
    "print(s1)\n"
   ]
  },
  {
   "cell_type": "code",
   "execution_count": 11,
   "id": "dc85e13f",
   "metadata": {},
   "outputs": [
    {
     "name": "stdout",
     "output_type": "stream",
     "text": [
      "153 is a armstrong number\n"
     ]
    }
   ],
   "source": [
    "'''3. An ATM machine verifies special numbers before processing transactions. Write a program to check if a number entered by the \n",
    "    customer is an Armstrong number.'''\n",
    "\n",
    "a=int(input())\n",
    "res=a\n",
    "r=0\n",
    "while a>0:\n",
    "    p=a%10\n",
    "    re=pow(p, 3)\n",
    "    r=r+re\n",
    "    a=a//10\n",
    "if(r==res):\n",
    "    print(res,\"is a armstrong number\")\n",
    "else:\n",
    "    print(res,\"is not a armstrong no\") \n",
    "       "
   ]
  },
  {
   "cell_type": "code",
   "execution_count": 19,
   "id": "0fc347e9",
   "metadata": {},
   "outputs": [
    {
     "name": "stdout",
     "output_type": "stream",
     "text": [
      "hello i am aravind\n",
      "The no of vowels are  7\n",
      "The no of consonants are 8\n"
     ]
    }
   ],
   "source": [
    "'''4. A language learning app wants to check how many vowels and consonants a user has typed in a practice sentence.\n",
    "Write a program to count vowels and consonants in a given sentence.'''\n",
    "str=input()\n",
    "a=['a','e','i','o','u','A','E','I','O','U']\n",
    "vow=0\n",
    "con=0\n",
    "print(str)\n",
    "for i in  range(0,len(str)):\n",
    "    if(str[i] in a):\n",
    "        vow=vow+1\n",
    "    elif(str[i]==\" \"):\n",
    "        continue\n",
    "    else:\n",
    "        con=con+1\n",
    "print(\"The no of vowels are \",vow)\n",
    "print(\"The no of consonants are\",con)\n"
   ]
  },
  {
   "cell_type": "code",
   "execution_count": 24,
   "id": "c4347e6c",
   "metadata": {},
   "outputs": [
    {
     "name": "stdout",
     "output_type": "stream",
     "text": [
      "2 * 1 = 2\n",
      "2 * 2 = 4\n",
      "2 * 3 = 6\n",
      "2 * 4 = 8\n",
      "2 * 5 = 10\n",
      "2 * 6 = 12\n",
      "2 * 7 = 14\n",
      "2 * 8 = 16\n",
      "2 * 9 = 18\n",
      "2 * 10 = 20\n"
     ]
    }
   ],
   "source": [
    "'''In an e-learning platform, when a student inputs a number, the system should generate its multiplication table (up to 10) as\n",
    "practice material. Write a program to do this.'''\n",
    "n=int(input())\n",
    "for i in range(1,11):\n",
    "    print(n,\"*\",i,\"=\",n*i)\n"
   ]
  },
  {
   "cell_type": "code",
   "execution_count": 31,
   "id": "9c62d767",
   "metadata": {},
   "outputs": [
    {
     "name": "stdout",
     "output_type": "stream",
     "text": [
      "2025 is not a Leap year\n"
     ]
    }
   ],
   "source": [
    "'''A travel company checks leap years to calculate special discounts on leap day. Write a program to check if a given year is a leap year.''' \n",
    "y=int(input())\n",
    "if((y%4==0 and y%100!=0) or (y%400==0)):\n",
    "    print(y,\"is a Leap year. \")\n",
    "else:\n",
    "    print(y,\"is not a Leap year\")"
   ]
  },
  {
   "cell_type": "code",
   "execution_count": 50,
   "id": "51a26cc5",
   "metadata": {},
   "outputs": [
    {
     "name": "stdout",
     "output_type": "stream",
     "text": [
      "The highest score is: 2555\n"
     ]
    }
   ],
   "source": [
    "#'''A gaming app wants to determine the highest score out of 5 attempts. Write a program to take 5 numbers as input and print the largest.''' \n",
    "del max  # This removes the redefined max variable, restoring the built-in function.\n",
    "\n",
    "\n",
    "s = list(map(int, input().replace(',', ' ').split()))\n",
    "print(\"The highest score is:\", max(s))"
   ]
  },
  {
   "cell_type": "code",
   "execution_count": null,
   "id": "1175c40c",
   "metadata": {},
   "outputs": [],
   "source": []
  }
 ],
 "metadata": {
  "kernelspec": {
   "display_name": "venv",
   "language": "python",
   "name": "python3"
  },
  "language_info": {
   "codemirror_mode": {
    "name": "ipython",
    "version": 3
   },
   "file_extension": ".py",
   "mimetype": "text/x-python",
   "name": "python",
   "nbconvert_exporter": "python",
   "pygments_lexer": "ipython3",
   "version": "3.11.0"
  }
 },
 "nbformat": 4,
 "nbformat_minor": 5
}
