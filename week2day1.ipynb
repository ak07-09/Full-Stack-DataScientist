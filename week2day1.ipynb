{
 "cells": [
  {
   "cell_type": "code",
   "execution_count": null,
   "id": "7af5ab80",
   "metadata": {},
   "outputs": [],
   "source": [
    "'''1. Prime Number Finder\n",
    " \n",
    "   * Function that returns all prime numbers up to `n`.\n",
    "   * Input: `n = 20`\n",
    "   * Output: `[2, 3, 5, 7, 11, 13, 17, 19]`\n",
    " \n",
    "2. Palindrome Checker\n",
    " \n",
    "   * Check if a string is palindrome (ignoring spaces & case).\n",
    "   * Input: `\"Never odd or even\"`\n",
    "   * Output: `True`\n",
    " \n",
    "3. Anagram Checker\n",
    " \n",
    "   * Function checks if two words are anagrams.\n",
    "   * Input: `\"listen\", \"silent\"`\n",
    "   * Output: `True`\n",
    " \n",
    " \n",
    " \n",
    "4. Count Vowels & Consonants\n",
    " \n",
    "   * Return count of vowels & consonants.\n",
    "   * Input: `\"hello\"`\n",
    "   * Output: `Vowels=2, Consonants=3`\n",
    " \n",
    "5. Longest Word Finder\n",
    " \n",
    "* Return longest word in a sentence.\n",
    "* Input: `\"Python is amazing\"`\n",
    "* Output: `\"amazing\"`\n",
    " \n",
    "Python Modules (5 challenges)\n",
    " \n",
    "1. Random Password Generator (`random`, `string`)\n",
    " \n",
    "* Input: `length=6`\n",
    "* Output: `\"aB9@xQ\"`\n",
    " \n",
    "2. Simple Calculator with `math`\n",
    " \n",
    "* Perform sqrt, factorial, sin, cos.\n",
    "* Input: `sqrt(25)`\n",
    "* Output: `5.0`\n",
    " \n",
    "3. Word Frequency Counter (`collections.Counter`)\n",
    " \n",
    "* Input: `\"cat dog cat\"`\n",
    "* Output: `{'cat':2,'dog':1}`\n",
    " \n",
    " \n",
    "4. Weather Simulator (`random`)\n",
    " \n",
    "* Input: None\n",
    "* Output: `\"Weather: Sunny, Temp: 32°C\"`\n",
    " \n",
    "5. Timer Program (`time`)\n",
    " \n",
    "* Input: `countdown(5)`\n",
    "* Output:\n",
    " \n",
    "  ```\n",
    "  5  \n",
    "  4  \n",
    "  3  \n",
    "  2  \n",
    "  1  \n",
    "  Time’s up!\n",
    "  ```\n",
    " \n",
    "Python OOPs (5 challenges)\n",
    " \n",
    "1. Bank Account Class\n",
    " \n",
    "Attributes:\n",
    " \n",
    "* `balance` → stores the current money in the account\n",
    "* `owner` (optional) → name of account holder\n",
    " \n",
    "Methods:\n",
    " \n",
    "* `deposit(amount)` → adds money to balance\n",
    "* `withdraw(amount)` → subtracts money if enough funds\n",
    "* `get_balance()` → returns balance\n",
    " \n",
    "Example:\n",
    " \n",
    "```python\n",
    "acc = BankAccount(100)   # initial balance = 100\n",
    "acc.deposit(50)          # balance = 150\n",
    "acc.withdraw(30)         # balance = 120\n",
    "print(acc.get_balance())\n",
    "```\n",
    " \n",
    "Output:\n",
    " \n",
    "```\n",
    "Balance: 120\n",
    "```\n",
    " \n",
    "---\n",
    " \n",
    "2. Student Class with Average\n",
    " \n",
    "Attributes:\n",
    " \n",
    "* `name` → student name\n",
    "* `marks` → list of student marks `[90, 80, 85]`\n",
    " \n",
    "Methods:\n",
    " \n",
    "* `get_average()` → returns average marks\n",
    "* `add_mark(mark)` → add new score\n",
    "* `get_highest()` → return highest mark\n",
    "* `get_lowest()` → return lowest mark\n",
    " \n",
    "Example:\n",
    " \n",
    "```python\n",
    "s = Student(\"Tom\", [90, 80, 85])\n",
    "print(s.get_average())   # (90+80+85)/3 = 85.0\n",
    "s.add_mark(95)           # marks = [90,80,85,95]\n",
    "print(s.get_highest())   # 95\n",
    "```\n",
    " \n",
    "Output:\n",
    " \n",
    "```\n",
    "85.0\n",
    "95\n",
    "```\n",
    " \n",
    "---\n",
    " \n",
    "3. Employee Bonus System\n",
    " \n",
    "Attributes:\n",
    " \n",
    "* `name` → employee name\n",
    "* `salary` → base salary\n",
    "* `role` → role of employee (e.g., Manager, Developer, Intern)\n",
    " \n",
    "Methods:\n",
    " \n",
    "* `bonus()` → calculates bonus depending on role:\n",
    " \n",
    "  * Manager → 20% of salary\n",
    "  * Developer → 10% of salary\n",
    "  * Intern → 5% of salary\n",
    " \n",
    "Example:\n",
    " \n",
    "```python\n",
    "m = Manager(\"Alice\", 50000)\n",
    "print(m.bonus())\n",
    "```\n",
    " \n",
    "Output:\n",
    " \n",
    "```\n",
    "10000\n",
    "```\n",
    " \n",
    "---\n",
    " \n",
    "4. Shape Area Calculator\n",
    " \n",
    "Base Class (Shape):\n",
    " \n",
    "*Attribute: `name`\n",
    "*Method: `area()` → to be overridden by subclasses\n",
    " \n",
    "Subclasses:\n",
    " \n",
    "* `Circle(radius)` → area = π × r²\n",
    "* `Rectangle(width, height)` → area = width × height\n",
    " \n",
    "Example:\n",
    " \n",
    "```python\n",
    "c = Circle(7)\n",
    "print(c.area())\n",
    "r = Rectangle(4, 5)\n",
    "print(r.area())\n",
    "```\n",
    " \n",
    "Output:\n",
    " \n",
    "```\n",
    "153.94\n",
    "20\n",
    "```\n",
    " \n",
    "---\n",
    " \n",
    "5. E-commerce Order Class\n",
    " \n",
    "Attributes:\n",
    " \n",
    "* `items` → dictionary of items `{name: price}`\n",
    " \n",
    "Methods:\n",
    " \n",
    "* `add(item, price)` → adds an item to order\n",
    "* `remove(item)` → removes item\n",
    "* `calculate_total()` → returns total price of all items\n",
    "* `show_items()` → lists all items in order\n",
    " \n",
    "Example:\n",
    " \n",
    "```python\n",
    "order = Order()\n",
    "order.add(\"Shirt\", 500)\n",
    "order.add(\"Shoes\", 1500)\n",
    "print(order.calculate_total())\n",
    "```\n",
    " \n",
    "Output:\n",
    " \n",
    "```\n",
    "Total = 2000'''"
   ]
  },
  {
   "cell_type": "code",
   "execution_count": 14,
   "id": "b0b876be",
   "metadata": {},
   "outputs": [
    {
     "name": "stdout",
     "output_type": "stream",
     "text": [
      "[2, 3, 5, 7, 11, 13, 17, 19, 23, 29]\n"
     ]
    }
   ],
   "source": [
    "#1\n",
    "def prime(n):\n",
    "    list1=[]\n",
    "    \n",
    "    for i in range(1,n+1):\n",
    "        if (i>1):\n",
    "            for j in range(2,i):\n",
    "                if(i%j==0):\n",
    "                    break\n",
    "            else:\n",
    "                list1.append(i)\n",
    "    \n",
    "    return list1\n",
    "\n",
    "a=int(input(\"Enter the number:\"))\n",
    "print(prime(a))"
   ]
  },
  {
   "cell_type": "code",
   "execution_count": 17,
   "id": "b4331540",
   "metadata": {},
   "outputs": [
    {
     "name": "stdout",
     "output_type": "stream",
     "text": [
      "PALINDROME\n"
     ]
    }
   ],
   "source": [
    "#2\n",
    "string1=input().lower()\n",
    "string2=string1[::-1]\n",
    "if (string1==string2):\n",
    "    print(\"PALINDROME\")\n",
    "else:\n",
    "    print(\"NOT A PALINDROME\")\n"
   ]
  },
  {
   "cell_type": "code",
   "execution_count": 21,
   "id": "bc52b0fd",
   "metadata": {},
   "outputs": [
    {
     "name": "stdout",
     "output_type": "stream",
     "text": [
      "Anagram\n"
     ]
    }
   ],
   "source": [
    "#3\n",
    "from collections import Counter\n",
    "a,b=map(str,input().split())\n",
    "if(Counter(a)==Counter(b)):\n",
    "    print(\"Anagram\")\n",
    "else:\n",
    "    print(\"Not an Anagram\")"
   ]
  },
  {
   "cell_type": "code",
   "execution_count": 31,
   "id": "2f34ed1d",
   "metadata": {},
   "outputs": [
    {
     "name": "stdout",
     "output_type": "stream",
     "text": [
      "(2, 3)\n"
     ]
    }
   ],
   "source": [
    "def count1(string1):\n",
    "    string1= string1.lower()\n",
    "    \n",
    "    v=0\n",
    "    c=0\n",
    "    vowels='aeiou'\n",
    "    for char in string1:\n",
    "        if char in vowels:\n",
    "            v=v+1\n",
    "        \n",
    "        elif char.isalpha():\n",
    "            c=c+1\n",
    "    return v,c\n",
    "\n",
    "string1=input(\"Enter the String\")\n",
    "print(count1(string1))"
   ]
  },
  {
   "cell_type": "code",
   "execution_count": null,
   "id": "3afb2587",
   "metadata": {},
   "outputs": [
    {
     "name": "stdout",
     "output_type": "stream",
     "text": [
      "('amazing', 7)\n"
     ]
    }
   ],
   "source": [
    "#5\n",
    "import math\n",
    "def longest(string1):\n",
    "    words=string1.split(\" \")\n",
    "    max1=max(words,key=len)\n",
    "    return max1,len(max1)\n",
    "\n",
    "sentence=input(\"Enter the String\")\n",
    "print(longest(sentence))"
   ]
  },
  {
   "cell_type": "code",
   "execution_count": 37,
   "id": "8525a3b7",
   "metadata": {},
   "outputs": [
    {
     "name": "stdout",
     "output_type": "stream",
     "text": [
      "(-WH3+\n"
     ]
    }
   ],
   "source": [
    "#modules1\n",
    "import random\n",
    "n=int(input(\"Enter the length\"))\n",
    "s=\"\"\n",
    "for i in range(n):\n",
    "    r=int(random.random()*100)\n",
    "    if(r<32):\n",
    "        r=int(random.random()*100)\n",
    "    s+=chr(r)\n",
    "print(s)"
   ]
  },
  {
   "cell_type": "code",
   "execution_count": 38,
   "id": "188b4a7b",
   "metadata": {},
   "outputs": [],
   "source": [
    "#modules2\n"
   ]
  },
  {
   "cell_type": "code",
   "execution_count": 41,
   "id": "f93ecf1f",
   "metadata": {},
   "outputs": [
    {
     "name": "stdout",
     "output_type": "stream",
     "text": [
      "Counter({'cat': 2, 'dog': 1})\n"
     ]
    }
   ],
   "source": [
    "#modules3\n",
    "from collections import Counter\n",
    "string1=input(\"enter the data\").split(\" \")\n",
    "print(Counter(string1))"
   ]
  },
  {
   "cell_type": "code",
   "execution_count": null,
   "id": "16550867",
   "metadata": {},
   "outputs": [],
   "source": []
  }
 ],
 "metadata": {
  "kernelspec": {
   "display_name": "venv",
   "language": "python",
   "name": "python3"
  },
  "language_info": {
   "codemirror_mode": {
    "name": "ipython",
    "version": 3
   },
   "file_extension": ".py",
   "mimetype": "text/x-python",
   "name": "python",
   "nbconvert_exporter": "python",
   "pygments_lexer": "ipython3",
   "version": "3.11.0"
  }
 },
 "nbformat": 4,
 "nbformat_minor": 5
}
