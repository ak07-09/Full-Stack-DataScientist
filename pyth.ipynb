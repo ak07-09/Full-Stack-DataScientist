{
 "cells": [
  {
   "cell_type": "code",
   "execution_count": null,
   "id": "be76baa0",
   "metadata": {},
   "outputs": [
    {
     "name": "stdout",
     "output_type": "stream",
     "text": [
      "Not a prime number\n"
     ]
    }
   ],
   "source": [
    "#11.prime\n",
    "a=int(input())\n",
    "flag=0\n",
    "for i in range(2,int(a**0.5)+1):\n",
    "    if(a%i==0):\n",
    "        flag+=1\n",
    "if(flag==0):\n",
    "    print(\"Prime number\")\n",
    "else:\n",
    "    print(\"Not a prime number\")"
   ]
  },
  {
   "cell_type": "code",
   "execution_count": null,
   "id": "77eb3a77",
   "metadata": {},
   "outputs": [
    {
     "name": "stdout",
     "output_type": "stream",
     "text": [
      "4\n"
     ]
    }
   ],
   "source": [
    "#12.second largest number\n",
    "a=list(map(int,input().split()))\n",
    "maxa=max(a)\n",
    "a.remove(maxa)\n",
    "print(max(a))"
   ]
  },
  {
   "cell_type": "code",
   "execution_count": null,
   "id": "368b2381",
   "metadata": {},
   "outputs": [
    {
     "name": "stdout",
     "output_type": "stream",
     "text": [
      "650\n"
     ]
    }
   ],
   "source": [
    "#13.sum of even numbers from 1 to 50\n",
    "sume=0\n",
    "for i in range(2,51,2):\n",
    "    sume+=i\n",
    "print(sume)"
   ]
  },
  {
   "cell_type": "code",
   "execution_count": 10,
   "id": "eccd6b27",
   "metadata": {},
   "outputs": [
    {
     "name": "stdout",
     "output_type": "stream",
     "text": [
      "97\n",
      "122\n",
      "65\n",
      "90\n"
     ]
    }
   ],
   "source": [
    "print(ord(\"a\"))\n",
    "print(ord(\"z\"))\n",
    "print(ord(\"A\"))\n",
    "print(ord(\"Z\"))"
   ]
  },
  {
   "cell_type": "code",
   "execution_count": null,
   "id": "302995ce",
   "metadata": {},
   "outputs": [
    {
     "name": "stdout",
     "output_type": "stream",
     "text": [
      "Lowercase count is : 3\n",
      "Uppercase count is: 2\n"
     ]
    }
   ],
   "source": [
    "#14.count og lower and uppercase\n",
    "s=str(input())\n",
    "ucount=0\n",
    "lcount=0\n",
    "for i in range(len(s)):\n",
    "    if(ord(s[i])>=65 and ord(s[i])<=90 ):\n",
    "        ucount+=1\n",
    "    else:\n",
    "        lcount+=1\n",
    "print(\"Lowercase count is :\",lcount)\n",
    "print(\"Uppercase count is:\",ucount)"
   ]
  },
  {
   "cell_type": "code",
   "execution_count": null,
   "id": "b20ba6bb",
   "metadata": {},
   "outputs": [
    {
     "name": "stdout",
     "output_type": "stream",
     "text": [
      "0\n",
      "1\n",
      "1\n",
      "2\n",
      "3\n"
     ]
    }
   ],
   "source": [
    "#15.fibonacci\n",
    "def fibo(n):\n",
    "    if(n==0 ):\n",
    "        return 0\n",
    "    elif n==1:\n",
    "        return 1\n",
    "    else:\n",
    "        return fibo(n-1)+fibo(n-2)\n",
    "n=int(input())\n",
    "for i in range(n):\n",
    "    print(fibo(i))"
   ]
  },
  {
   "cell_type": "code",
   "execution_count": null,
   "id": "99d0bdab",
   "metadata": {},
   "outputs": [
    {
     "name": "stdout",
     "output_type": "stream",
     "text": [
      "Anagrams\n"
     ]
    }
   ],
   "source": [
    "#16.anagrams\n",
    "from collections import Counter\n",
    "a=str(input())\n",
    "b=str(input())\n",
    "if(Counter(a)==Counter(b)):\n",
    "    print(\"Anagrams\")\n",
    "else:\n",
    "    print(\"Not a anagrams\")"
   ]
  },
  {
   "cell_type": "code",
   "execution_count": null,
   "id": "4553b469",
   "metadata": {},
   "outputs": [
    {
     "name": "stdout",
     "output_type": "stream",
     "text": [
      "1\n",
      "2\n",
      "3\n",
      "5\n",
      "7\n",
      "11\n",
      "13\n",
      "17\n",
      "19\n",
      "23\n",
      "29\n",
      "31\n",
      "37\n",
      "41\n",
      "43\n",
      "47\n",
      "53\n",
      "59\n",
      "61\n",
      "67\n",
      "71\n",
      "73\n",
      "79\n",
      "83\n",
      "89\n",
      "97\n"
     ]
    }
   ],
   "source": [
    "\n",
    "#19.Write a program to print all prime numbers in this range.\n",
    "def prime(a):\n",
    "    flag=0\n",
    "    for i in range(2,int(a**0.5)+1):\n",
    "        if(a%i==0):\n",
    "         flag+=1\n",
    "    if(flag==0):\n",
    "     return True\n",
    "    else:\n",
    "     return False\n",
    "for i in range(1,101):\n",
    "  if(prime(i)):\n",
    "    print(i)"
   ]
  },
  {
   "cell_type": "code",
   "execution_count": null,
   "id": "a759f8aa",
   "metadata": {},
   "outputs": [
    {
     "name": "stdout",
     "output_type": "stream",
     "text": [
      "3\n"
     ]
    }
   ],
   "source": [
    "#20.count words\n",
    "s=str(input())\n",
    "s=s.strip()\n",
    "wcount=0\n",
    "for i in s:\n",
    "    if(i==\" \"):\n",
    "        wcount+=1\n",
    "print(wcount+1)"
   ]
  },
  {
   "cell_type": "code",
   "execution_count": null,
   "id": "7f553944",
   "metadata": {},
   "outputs": [
    {
     "name": "stdout",
     "output_type": "stream",
     "text": [
      "800.0\n"
     ]
    }
   ],
   "source": [
    "#21.discount \n",
    "price=int(input())\n",
    "age=int(input())\n",
    "student=bool(input())\n",
    "discount=0\n",
    "if(student):\n",
    "    discount=20\n",
    "elif(age>=60):\n",
    "    discount=10\n",
    "else:\n",
    "    discount=0\n",
    "finalprice=price*(100-discount)/100\n",
    "print(finalprice)"
   ]
  },
  {
   "cell_type": "code",
   "execution_count": null,
   "id": "7d5002e3",
   "metadata": {},
   "outputs": [
    {
     "name": "stdout",
     "output_type": "stream",
     "text": [
      "502\n"
     ]
    }
   ],
   "source": [
    "#22.shipping charge\n",
    "a=int(input())\n",
    "if(a>500):\n",
    "    print(a)\n",
    "else:\n",
    "    print(a+50)\n"
   ]
  },
  {
   "cell_type": "code",
   "execution_count": null,
   "id": "3c876084",
   "metadata": {},
   "outputs": [
    {
     "name": "stdout",
     "output_type": "stream",
     "text": [
      "grade is C\n"
     ]
    }
   ],
   "source": [
    "#23.grades\n",
    "marks=int(input())\n",
    "if(marks>=90 and marks<=100):\n",
    "    print(\"Grade is A\")\n",
    "elif(marks>=75 and marks<=89):\n",
    "    print(\"Grade is B\")\n",
    "elif(marks>=50 and marks<75):\n",
    "    print(\"grade is C\")\n",
    "else:\n",
    "    prnt(\"Fail\")"
   ]
  },
  {
   "cell_type": "code",
   "execution_count": null,
   "id": "8f9eedd3",
   "metadata": {},
   "outputs": [
    {
     "name": "stdout",
     "output_type": "stream",
     "text": [
      "TIp is  10\n"
     ]
    }
   ],
   "source": [
    "#24.tip caluculator\n",
    "a=int(input())\n",
    "tip=0\n",
    "if(a<500):\n",
    "    tip=5\n",
    "elif(a>=500 and a<1000):\n",
    "    tip=10\n",
    "else:\n",
    "    tip=15\n",
    "print(\"TIp is \",tip)\n"
   ]
  },
  {
   "cell_type": "code",
   "execution_count": null,
   "id": "01cd3512",
   "metadata": {},
   "outputs": [
    {
     "name": "stdout",
     "output_type": "stream",
     "text": [
      "Cheapest  is:  2083\n"
     ]
    }
   ],
   "source": [
    "#25. Gym Membership Plan\n",
    "months = int(input(\"Enter\"))\n",
    "\n",
    "cost1 = months * 500             \n",
    "cost2 = (months / 6) * 2700     \n",
    "cost3 = (months / 12) * 5000    \n",
    "cheapest = min(cost1, cost2, cost3)\n",
    "print(\"Cheapest  is: \", int(cheapest))\n"
   ]
  },
  {
   "cell_type": "code",
   "execution_count": null,
   "id": "c7035b4b",
   "metadata": {},
   "outputs": [
    {
     "name": "stdout",
     "output_type": "stream",
     "text": [
      "Not eligible\n",
      "Eligible\n",
      "Not eligible\n",
      "Not eligible\n",
      "Eligible\n"
     ]
    }
   ],
   "source": [
    "#26. Exam Eligibility\n",
    "n=int(input())\n",
    "a=list(map(int,input().split()))\n",
    "for i in a:\n",
    "    if(i/n)*100>=75:\n",
    "        print(\"Eligible \",i)\n",
    "    else:\n",
    "        print(\"Not eligible \",i)"
   ]
  },
  {
   "cell_type": "code",
   "execution_count": null,
   "id": "6f547a2a",
   "metadata": {},
   "outputs": [
    {
     "name": "stdout",
     "output_type": "stream",
     "text": [
      "transction unsuccessful\n"
     ]
    }
   ],
   "source": [
    "#27. ATM Withdrawal\n",
    "a=int(input())\n",
    "if(a%100==0):\n",
    "    print(\"Transcation successful\")\n",
    "else:\n",
    "    print(\"transction unsuccessful\")\n"
   ]
  },
  {
   "cell_type": "code",
   "execution_count": null,
   "id": "c099546a",
   "metadata": {},
   "outputs": [
    {
     "name": "stdout",
     "output_type": "stream",
     "text": [
      "Too hot, stay indoors!\n"
     ]
    }
   ],
   "source": [
    "#28. Weather Suggestion\n",
    "\n",
    "temp=int(input())\n",
    "if(temp>=35):\n",
    "    print(\"Too hot, stay indoors!\")\n",
    "elif(temp>=20 and temp<35):\n",
    "    print( \"Nice weather, go out!\")\n",
    "else:\n",
    "    print(\"It’s cold, wear warm clothes!\")"
   ]
  },
  {
   "cell_type": "code",
   "execution_count": null,
   "id": "d0ab4e1b",
   "metadata": {},
   "outputs": [
    {
     "name": "stdout",
     "output_type": "stream",
     "text": [
      "Fine is 50\n"
     ]
    }
   ],
   "source": [
    "#29. Library Fine\n",
    "n=int(input())\n",
    "if(n>=1 and n<5):\n",
    "    print(\"Fine is 10\")\n",
    "elif(n>=6 and n<10):\n",
    "    print(\"Fine is 50\")\n",
    "else:\n",
    "    print(\"Tip is 100\")"
   ]
  },
  {
   "cell_type": "code",
   "execution_count": null,
   "id": "eeb43119",
   "metadata": {},
   "outputs": [
    {
     "name": "stdout",
     "output_type": "stream",
     "text": [
      "Bill amount is  861\n"
     ]
    }
   ],
   "source": [
    "#30. Electricity Bill Calculator\n",
    "n=int(input())\n",
    "if(n<=100):\n",
    "    print(\"Bill amount is \",n*5)\n",
    "elif(n>=101 and n<=200):\n",
    "    print(\"Bill amount is \",n*7)\n",
    "else:\n",
    "    print(\"Bill amount is \",n*10)"
   ]
  }
 ],
 "metadata": {
  "kernelspec": {
   "display_name": "Python 3",
   "language": "python",
   "name": "python3"
  },
  "language_info": {
   "codemirror_mode": {
    "name": "ipython",
    "version": 3
   },
   "file_extension": ".py",
   "mimetype": "text/x-python",
   "name": "python",
   "nbconvert_exporter": "python",
   "pygments_lexer": "ipython3",
   "version": "3.10.0"
  }
 },
 "nbformat": 4,
 "nbformat_minor": 5
}
